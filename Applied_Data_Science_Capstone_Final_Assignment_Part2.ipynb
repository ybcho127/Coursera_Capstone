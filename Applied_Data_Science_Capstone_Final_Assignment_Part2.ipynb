{
  "nbformat": 4,
  "nbformat_minor": 0,
  "metadata": {
    "colab": {
      "name": "Applied Data Science Capstone Final Assignment  Part2.ipynb",
      "provenance": [],
      "toc_visible": true,
      "authorship_tag": "ABX9TyPX85K79eajGIRo+1Bn4zdd",
      "include_colab_link": true
    },
    "kernelspec": {
      "name": "python3",
      "display_name": "Python 3"
    }
  },
  "cells": [
    {
      "cell_type": "markdown",
      "metadata": {
        "id": "view-in-github",
        "colab_type": "text"
      },
      "source": [
        "<a href=\"https://colab.research.google.com/github/ybcho127/Coursera_Capstone/blob/main/Applied_Data_Science_Capstone_Final_Assignment_Part2.ipynb\" target=\"_parent\"><img src=\"https://colab.research.google.com/assets/colab-badge.svg\" alt=\"Open In Colab\"/></a>"
      ]
    },
    {
      "cell_type": "markdown",
      "metadata": {
        "id": "9Co-eIv_zq_j"
      },
      "source": [
        "##Data\n",
        "Based on the defined problem, I believe the neccessary data will be following datasets:\n",
        "1. Crime data in NYC\n",
        "2. Foursquared API results\n",
        "3. Zip Code dataframe\n",
        "4. (Optional) Rodent Inspection Data\n",
        "\n",
        "In order to extract the location information, we need geocoding to extract the latitude, longitude coordinate from zip code, foursquared API to find the nearby facility for future clustering work."
      ]
    }
  ]
}