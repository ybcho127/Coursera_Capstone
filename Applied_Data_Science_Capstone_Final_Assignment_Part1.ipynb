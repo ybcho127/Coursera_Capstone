{
  "nbformat": 4,
  "nbformat_minor": 0,
  "metadata": {
    "colab": {
      "name": "Applied Data Science Capstone Final Assignment  Part1.ipynb",
      "provenance": [],
      "authorship_tag": "ABX9TyNndCqeMpQqR5ZJbPtXRQiF"
    },
    "kernelspec": {
      "name": "python3",
      "display_name": "Python 3"
    }
  },
  "cells": [
    {
      "cell_type": "markdown",
      "metadata": {
        "id": "gXkxUXW_J0Lj"
      },
      "source": [
        "## Scenario(Business Problem):## \n",
        "\n",
        "John is a student who just graduated his collage at Hong Kong and got hired in Investment Bank at Manhattan, NY. He hasn't been to U.S. before and he doesn't know anything about New York. He asked for an advice to you on which place in New York to live(Preferrably somewhere near Manhattan), and you as an advisor, who also has zero background of life in New York, should use your Data Analysis to briefly introduce  some special features of each regions in New York.\n",
        "\n",
        "John is a very introvertive person who prefer to live in quiet area. He can sacrifice to spend more time communiting if he can stay in quiet area. Also, since John has been living in quiet rural area, he is extremely cautious on the crimes in NY city as he has been consuming the information sinc he was young in the news. So providing him the most suitable area  is our objective of this analysis. "
      ]
    },
    {
      "cell_type": "code",
      "metadata": {
        "id": "KkFYSwRMwwWW"
      },
      "source": [
        ""
      ],
      "execution_count": null,
      "outputs": []
    }
  ]
}