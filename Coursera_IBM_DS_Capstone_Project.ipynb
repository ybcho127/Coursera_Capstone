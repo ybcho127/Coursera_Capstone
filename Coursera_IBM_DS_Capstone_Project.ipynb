{
  "nbformat": 4,
  "nbformat_minor": 0,
  "metadata": {
    "colab": {
      "name": "Coursera IBM DS Capstone Project.ipynb",
      "provenance": []
    },
    "kernelspec": {
      "name": "python3",
      "display_name": "Python 3"
    }
  },
  "cells": [
    {
      "cell_type": "code",
      "metadata": {
        "id": "n33Yg55vVo2t"
      },
      "source": [
        "# This notebook will be mainly used for the capstone project."
      ],
      "execution_count": null,
      "outputs": []
    },
    {
      "cell_type": "code",
      "metadata": {
        "colab": {
          "base_uri": "https://localhost:8080/"
        },
        "id": "KOQQzyMdVz8s",
        "outputId": "562486b3-ed80-4681-b3dd-4b4637cdf04f"
      },
      "source": [
        "import pandas as pd\r\n",
        "import numpy as np\r\n",
        "print(\"Hello Capstone Project course!\")"
      ],
      "execution_count": 1,
      "outputs": [
        {
          "output_type": "stream",
          "text": [
            "Hello Capstone Project course!\n"
          ],
          "name": "stdout"
        }
      ]
    }
  ]
}