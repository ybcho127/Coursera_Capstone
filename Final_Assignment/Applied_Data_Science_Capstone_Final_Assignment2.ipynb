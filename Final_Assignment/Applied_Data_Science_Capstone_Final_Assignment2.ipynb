{
  "nbformat": 4,
  "nbformat_minor": 0,
  "metadata": {
    "colab": {
      "name": "Applied Data Science Capstone Final Assignment2.ipynb",
      "provenance": [],
      "authorship_tag": "ABX9TyPKrJtOjPrTEciHIX6UsXZg",
      "include_colab_link": true
    },
    "kernelspec": {
      "name": "python3",
      "display_name": "Python 3"
    },
    "language_info": {
      "name": "python"
    }
  },
  "cells": [
    {
      "cell_type": "markdown",
      "metadata": {
        "id": "view-in-github",
        "colab_type": "text"
      },
      "source": [
        "<a href=\"https://colab.research.google.com/github/ybcho127/Coursera_Capstone/blob/main/Applied_Data_Science_Capstone_Final_Assignment2.ipynb\" target=\"_parent\"><img src=\"https://colab.research.google.com/assets/colab-badge.svg\" alt=\"Open In Colab\"/></a>"
      ]
    },
    {
      "cell_type": "markdown",
      "metadata": {
        "id": "9Co-eIv_zq_j"
      },
      "source": [
        "##Data\n",
        "Based on the defined problem, I believe the neccessary data will be following datasets:\n",
        "1. Crime data in NYC\n",
        "The data is from:\n",
        "\n",
        "https://www.kaggle.com/new-york-state/new-york-state-index-crimes?select=index-crimes-by-county-and-agency-beginning-1990.csv\n",
        "\n",
        "The data is collected by The Division of Criminal Justice Services (DCJS), and it contains informations such as the boroughs in which the crime has occured, thy type of crime(ex. Murder, Theft, Robbery, etc), date when the crime has occured, and the office which has dealt with the crime.\n",
        "\n",
        "2. Foursquared API results\n",
        "\n",
        "The data is retrieved from foursquare API, and it contains the information such as nearby venues on the selected location, reviews of certain veneus, and the reviews that one individual has posted. We will be using this data for future K-means clustering analysis to seperate locations into different clusters.\n",
        "\n",
        "3. Zip Code dataframe\n",
        "\n",
        "The data is from:\n",
        "\n",
        "https://www.unitedstateszipcodes.org/\n",
        "\n",
        "The purpose of the data is to map all the location into the Zip Code area for future analysis using foursuqared data. By using geocode, we can retrieve the geolocation data for extracting data from foursquared API.\n",
        "\n",
        "4. New York City Population\n",
        "\n",
        "The data is extracted from:\n",
        "\n",
        "https://en.wikipedia.org/wiki/Demographics_of_New_York_City\n",
        "\n",
        "The purpose of the data is to see the demographics of New York City, calculate the population density, whether to see if the population density might be a factor for the given criteria such as crime occurrence, rodent inspection, and different categories of nearby venues.\n",
        "\n",
        "5. (Optional) Rodent Inspection Data\n",
        "\n",
        "The data is from:\n",
        "\n",
        "https://www.kaggle.com/new-york-city/ny-rodent-inspection\n",
        "\n",
        "The data is collected by NYC Department of Health and Mental Hygiene (DOHMH), Division of Environmental Health Pest Control Database. The data contains information such as the location where the rodent was sighted, proccess of the rodent inspection (Initial Inspection, Compliance inspection, Putting Bait, and Checking whether the place is clean or not). Following data will be used to see if there is a correlation between frequency of rodents detected and frequency of crime occuring.\n",
        "\n",
        "\n",
        "In order to extract the location information, we need geocoding to extract the latitude, longitude coordinate from zip code, foursquared API to find the nearby facility for future clustering work."
      ]
    }
  ]
}
